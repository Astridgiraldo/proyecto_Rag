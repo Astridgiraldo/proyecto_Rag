{
  "nbformat": 4,
  "nbformat_minor": 0,
  "metadata": {
    "colab": {
      "provenance": [],
      "mount_file_id": "18I_S94JMuJVd3exSr0upOeLlxZ7kOcPv",
      "authorship_tag": "ABX9TyPH8vPjfbsEaIxNrIWLPg+f",
      "include_colab_link": true
    },
    "kernelspec": {
      "name": "python3",
      "display_name": "Python 3"
    },
    "language_info": {
      "name": "python"
    }
  },
  "cells": [
    {
      "cell_type": "markdown",
      "metadata": {
        "id": "view-in-github",
        "colab_type": "text"
      },
      "source": [
        "<a href=\"https://colab.research.google.com/github/Astridgiraldo/proyecto_Rag/blob/main/Modelo_Rag.ipynb\" target=\"_parent\"><img src=\"https://colab.research.google.com/assets/colab-badge.svg\" alt=\"Open In Colab\"/></a>"
      ]
    },
    {
      "cell_type": "markdown",
      "source": [
        "# **Descargas**"
      ],
      "metadata": {
        "id": "tELBhKCuL-XR"
      }
    },
    {
      "cell_type": "code",
      "execution_count": null,
      "metadata": {
        "id": "7T-NKcv8mfyA"
      },
      "outputs": [],
      "source": [
        "%%capture\n",
        "!pip install langchain pypdf openai chromadb tiktoken"
      ]
    },
    {
      "cell_type": "code",
      "source": [
        "%%capture\n",
        "!pip install -U langchain-community"
      ],
      "metadata": {
        "id": "3M4inbtGqY0U"
      },
      "execution_count": null,
      "outputs": []
    },
    {
      "cell_type": "code",
      "source": [
        "%%capture\n",
        "!pip install PyPDF2"
      ],
      "metadata": {
        "id": "kl0Xak_qqK0-"
      },
      "execution_count": null,
      "outputs": []
    },
    {
      "cell_type": "code",
      "source": [
        "%%capture\n",
        "!pip install openai"
      ],
      "metadata": {
        "id": "stK7mvQlYDTu"
      },
      "execution_count": null,
      "outputs": []
    },
    {
      "cell_type": "code",
      "source": [
        "%%capture\n",
        "!pip install --upgrade openai"
      ],
      "metadata": {
        "id": "XmYNgIhuhH8H"
      },
      "execution_count": null,
      "outputs": []
    },
    {
      "cell_type": "code",
      "source": [
        "%%capture\n",
        "!pip install -U langchain-openai"
      ],
      "metadata": {
        "id": "tgSGDMqDkTlt"
      },
      "execution_count": null,
      "outputs": []
    },
    {
      "cell_type": "markdown",
      "source": [
        "# **Documentos**"
      ],
      "metadata": {
        "id": "v97vHu7YMY3T"
      }
    },
    {
      "cell_type": "code",
      "source": [
        "import os\n",
        "from langchain.document_loaders import PyPDFLoader\n",
        "from google.colab import drive\n",
        "\n",
        "#  Directorio donde están almacenados tus PDFs en Google Drive\n",
        "pdf_directory = '/content/drive/MyDrive/prueba y documentos '  # Cambia esto a la ruta correcta\n",
        "\n",
        "# Obtener la lista de archivos PDF en el directorio\n",
        "pdf_files = [f for f in os.listdir(pdf_directory) if f.endswith('.pdf')]\n",
        "\n",
        "ml_papers = []\n",
        "\n",
        "# Cargar cada archivo PDF\n",
        "for i, pdf_file in enumerate(pdf_files):\n",
        "    file_path = os.path.join(pdf_directory, pdf_file)\n",
        "\n",
        "    # Cargar el PDF con PyPDFLoader\n",
        "    loader = PyPDFLoader(file_path)\n",
        "    documents = loader.load()\n",
        "\n",
        "\n",
        "    ml_papers.extend(documents)\n",
        "    print(f'Cargado {pdf_file}')\n",
        "\n",
        "# Ver el número de documentos cargados\n",
        "print(f'Se han cargado {len(ml_papers)} paginas.')"
      ],
      "metadata": {
        "colab": {
          "base_uri": "https://localhost:8080/"
        },
        "id": "z85tnNp4wMla",
        "outputId": "e9c635bc-6595-47aa-95a0-c421597a238b"
      },
      "execution_count": null,
      "outputs": [
        {
          "output_type": "stream",
          "name": "stdout",
          "text": [
            "Cargado Documento de Anexos_1.pdf\n",
            "Cargado maiz_y_frijol_biofortificados_intercalados_con_cafe.pdf\n",
            "Cargado articulo 3 .pdf\n",
            "Se han cargado 51 paginas.\n"
          ]
        }
      ]
    },
    {
      "cell_type": "code",
      "source": [
        "print(len(ml_papers))"
      ],
      "metadata": {
        "colab": {
          "base_uri": "https://localhost:8080/"
        },
        "id": "--RIDBterI_n",
        "outputId": "708a7f42-6c38-439e-d3e5-0585262d454a"
      },
      "execution_count": null,
      "outputs": [
        {
          "output_type": "stream",
          "name": "stdout",
          "text": [
            "51\n"
          ]
        }
      ]
    },
    {
      "cell_type": "code",
      "source": [
        "type(ml_papers), len(ml_papers), ml_papers[1]"
      ],
      "metadata": {
        "colab": {
          "base_uri": "https://localhost:8080/"
        },
        "id": "QD81hWqIqtJC",
        "outputId": "c524e375-be6c-48ba-af0b-5a3af42bd968"
      },
      "execution_count": null,
      "outputs": [
        {
          "output_type": "execute_result",
          "data": {
            "text/plain": [
              "(list,\n",
              " 51,\n",
              " Document(metadata={'source': '/content/drive/MyDrive/prueba y documentos /Documento de Anexos_1.pdf', 'page': 1, 'page_label': '2'}, page_content='TABLA DE CONTENIDO \\nAnexo No. 1: Cronograma del Proyecto 1 \\nAnexo No. 2: Estructura de Desglose del Trabajo (EDT) 2 \\nAnexo No. 3: Cuestionario de Levantamiento de Información para Cenicafe 4 \\nAnexo No. 4: Cuestionario de Levantamiento de Información para Caficultores y \\nGrandes Empresas 5 \\nAnexo No. 5: Análisis del Modelo BPSC (Análisis del contexto actual y problemática) 8 \\nAnexo No. 6: Análisis del Modelo BPSC (Análisis de la solución desde la Ingeniería) 10 \\nAnexo No. 7: Diagrama de Arquitectura 13 \\nAnexo No. 8: Requerimientos Funcionales y no Funcionales 14 \\nAnexo No. 9: Diagrama BPMN 15 \\nAnexo No. 10: Actas de reunión 16 \\nAnexo No. 11: Casos de usos 16 \\nAnexo No. 12: Modelo Entidad Relación 17 \\nAnexo No. 13 :Github 18 \\nAnexo No. 14: Prototipos 18 \\nAnexo No. 15: Documento de Arquitectura 18 '))"
            ]
          },
          "metadata": {},
          "execution_count": 10
        }
      ]
    },
    {
      "cell_type": "markdown",
      "source": [
        "# **Chucks**"
      ],
      "metadata": {
        "id": "j7fHdZ5PMmQi"
      }
    },
    {
      "cell_type": "code",
      "source": [
        "\n",
        "from langchain.text_splitter import RecursiveCharacterTextSplitter\n",
        "\n",
        "text_splitter = RecursiveCharacterTextSplitter(\n",
        "    chunk_size=1550, ## cada texto va a tener un tamaño de 1500 caracteres\n",
        "    chunk_overlap=200,\n",
        "    length_function=len\n",
        "    )\n",
        "\n",
        "documents = text_splitter.split_documents(ml_papers)"
      ],
      "metadata": {
        "id": "gOlcG_3JQnO2"
      },
      "execution_count": null,
      "outputs": []
    },
    {
      "cell_type": "code",
      "source": [
        "len(documents),documents[5]"
      ],
      "metadata": {
        "colab": {
          "base_uri": "https://localhost:8080/"
        },
        "id": "fsqOqhfETQuf",
        "outputId": "a192dec2-0f4a-494c-d992-40bd254b0058"
      },
      "execution_count": null,
      "outputs": [
        {
          "output_type": "execute_result",
          "data": {
            "text/plain": [
              "(87,\n",
              " Document(metadata={'source': '/content/drive/MyDrive/prueba y documentos /Documento de Anexos_1.pdf', 'page': 4, 'page_label': '5'}, page_content='- Diseñar estructura de nodos y transacciones\\n3.2. Diseño del sistema de NFT \\n- Definir características de los NFTs\\n- Establecer protocolo de emisión y transferencia\\n3.3. Integración de Blockchain y NFT para Trazabilidad \\n- Diseñar flujos de datos entre sistemas\\n- Establecer puntos de control y autenticidad\\n3.4. Diseño de Interfaz de Usuario y UX \\n- Crear prototipos de interfaces\\n- Definir navegabilidad y experiencia del usuario\\n4. Documentación\\n4.1. Elaboración de Documentación Técnica\\n- Documentar estructuras y patrones de diseño\\n- Detallar procesos de implementación y configuración\\n4.2. Guías y Manuales para Usuarios \\n- Crear guías paso a paso para usuarios finales\\n- Desarrollar documentación de resolución de problemas\\n4.3. Diagramas y Especificaciones de la Arquitectura \\n- Realizar diagramas de flujo y estructura\\n- Documentar interacciones entre sistemas y componentes\\n5. Evaluación\\n5.1. Desarrollo de Casos de Prueba\\n- Definir escenarios de prueba basados en requisitos\\n- Crear datos y entradas de prueba\\n5.2. Ejecución de Pruebas Unitarias \\n- Probar componentes individuales del sistema\\n- Registrar fallos y áreas de mejora\\n5.3. Pruebas de Integración \\n- Validar interacciones entre sistemas y componentes\\n- Asegurar cohesión funcional\\n5.4. Pruebas de Usabilidad y UX \\n- Realizar pruebas con usuarios reales\\n- Obtener feedback y ajustar diseño según sea necesario\\n6. Implementación\\n6.1. Configuración del Entorno Controlado\\n- Preparar hardware y software para despliegue\\n- Establecer protocolos de seguridad'))"
            ]
          },
          "metadata": {},
          "execution_count": 12
        }
      ]
    },
    {
      "cell_type": "code",
      "source": [
        "import openai\n",
        "print(dir(openai))"
      ],
      "metadata": {
        "colab": {
          "base_uri": "https://localhost:8080/"
        },
        "id": "HgnKPvQFhMS4",
        "outputId": "42dc7efc-eaaa-4b27-d87d-c3bcfd063d61"
      },
      "execution_count": null,
      "outputs": [
        {
          "output_type": "stream",
          "name": "stdout",
          "text": [
            "['APIConnectionError', 'APIError', 'APIResponse', 'APIResponseValidationError', 'APIStatusError', 'APITimeoutError', 'AssistantEventHandler', 'AsyncAPIResponse', 'AsyncAssistantEventHandler', 'AsyncAzureOpenAI', 'AsyncClient', 'AsyncOpenAI', 'AsyncStream', 'Audio', 'AuthenticationError', 'AzureOpenAI', 'BadRequestError', 'BaseModel', 'ChatCompletion', 'Client', 'Completion', 'ConflictError', 'ContentFilterFinishReasonError', 'Customer', 'DEFAULT_CONNECTION_LIMITS', 'DEFAULT_MAX_RETRIES', 'DEFAULT_TIMEOUT', 'DefaultAsyncHttpxClient', 'DefaultHttpxClient', 'Deployment', 'Edit', 'Embedding', 'Engine', 'ErrorObject', 'File', 'FineTune', 'FineTuningJob', 'HttpxBinaryResponseContent', 'Image', 'InternalServerError', 'LengthFinishReasonError', 'Model', 'Moderation', 'NOT_GIVEN', 'NoneType', 'NotFoundError', 'NotGiven', 'Omit', 'OpenAI', 'OpenAIError', 'PermissionDeniedError', 'ProxiesTypes', 'RateLimitError', 'RequestOptions', 'Stream', 'Timeout', 'Transport', 'UnprocessableEntityError', 'VERSION', '_AmbiguousModuleClientUsageError', '_ApiType', '_AzureModuleClient', '_ModuleClient', '__all__', '__annotations__', '__builtins__', '__cached__', '__doc__', '__file__', '__loader__', '__locals', '__name', '__name__', '__package__', '__path__', '__spec__', '__title__', '__version__', '_azure', '_base_client', '_client', '_compat', '_constants', '_exceptions', '_extras', '_files', '_has_azure_ad_credentials', '_has_azure_credentials', '_has_openai_credentials', '_httpx', '_legacy_response', '_load_client', '_models', '_module_client', '_os', '_qs', '_reset_client', '_resource', '_response', '_setup_logging', '_streaming', '_t', '_te', '_types', '_utils', '_version', 'annotations', 'api_key', 'api_type', 'api_version', 'audio', 'azure_ad_token', 'azure_ad_token_provider', 'azure_endpoint', 'base_url', 'batches', 'beta', 'chat', 'completions', 'default_headers', 'default_query', 'embeddings', 'file_from_path', 'files', 'fine_tuning', 'http_client', 'images', 'lib', 'max_retries', 'models', 'moderations', 'organization', 'override', 'pagination', 'project', 'pydantic_function_tool', 'resources', 'timeout', 'types', 'version']\n"
          ]
        }
      ]
    },
    {
      "cell_type": "markdown",
      "source": [
        "# **Embeddings y base de datos vectorial.**"
      ],
      "metadata": {
        "id": "AwB9KYa6Mtqx"
      }
    },
    {
      "cell_type": "code",
      "source": [
        "from getpass import getpass\n",
        "import os\n",
        "\n",
        "OPENAI_API_KEY = getpass('Enter the secret value: ')\n",
        "os.environ['OPENAI_API_KEY'] = OPENAI_API_KEY"
      ],
      "metadata": {
        "colab": {
          "base_uri": "https://localhost:8080/"
        },
        "id": "13NGE73DjJJz",
        "outputId": "64280bcb-97ee-4c4d-8a5a-25d24e4aa724"
      },
      "execution_count": null,
      "outputs": [
        {
          "name": "stdout",
          "output_type": "stream",
          "text": [
            "Enter the secret value: ··········\n"
          ]
        }
      ]
    },
    {
      "cell_type": "code",
      "source": [
        "from langchain.embeddings import OpenAIEmbeddings\n",
        "from langchain.vectorstores import Chroma\n",
        "\n",
        "\n",
        "embeddings = OpenAIEmbeddings(model = 'text-embedding-ada-002')  ## Embeddings\n",
        "\n",
        "## creacion de base de datos vectorial usando chroma\n",
        "vectorstore = Chroma.from_documents(\n",
        "    documents=documents,\n",
        "    embedding=embeddings\n",
        ")\n",
        "\n",
        "### Configuracion del recuperador de documentos\n",
        "retriever = vectorstore.as_retriever(\n",
        "    search_kwargs={\"k\":3}\n",
        "\n",
        "    )"
      ],
      "metadata": {
        "id": "W6DHSemuTeYF",
        "colab": {
          "base_uri": "https://localhost:8080/"
        },
        "outputId": "d3a1a48c-d2a9-4ec8-a1c7-118a055493c3"
      },
      "execution_count": null,
      "outputs": [
        {
          "output_type": "stream",
          "name": "stderr",
          "text": [
            "<ipython-input-15-7829bdf83726>:5: LangChainDeprecationWarning: The class `OpenAIEmbeddings` was deprecated in LangChain 0.0.9 and will be removed in 1.0. An updated version of the class exists in the :class:`~langchain-openai package and should be used instead. To use it run `pip install -U :class:`~langchain-openai` and import as `from :class:`~langchain_openai import OpenAIEmbeddings``.\n",
            "  embeddings = OpenAIEmbeddings(model = 'text-embedding-ada-002')  ## Embeddings\n"
          ]
        }
      ]
    },
    {
      "cell_type": "markdown",
      "source": [
        "# **Modelo de chat - Consulta de informacion**"
      ],
      "metadata": {
        "id": "GCCT4tEiM4It"
      }
    },
    {
      "cell_type": "code",
      "source": [
        "from langchain_openai import ChatOpenAI\n",
        "from langchain.chains import RetrievalQA\n",
        "\n",
        "chat = ChatOpenAI(\n",
        "    openai_api_key = OPENAI_API_KEY,\n",
        "    model_name= 'gpt-3.5-turbo' , ## modelo\n",
        "    temperature= 0.0 ## control de aleatoriedad de las respuestas, es decir no queremos que el modelo sea creativo\n",
        "\n",
        ")\n",
        "## combinacion del modelo generativo con el de recuperacion\n",
        "qa_chain = RetrievalQA.from_chain_type(\n",
        "    llm= chat,\n",
        "    chain_type= \"stuff\", ## se especifica la manera como se debe integrar la informacion recuperada tambien esta map-reduce y refine\n",
        "    retriever=retriever\n",
        ")\n",
        "\n"
      ],
      "metadata": {
        "id": "mpC64ziGmtGQ"
      },
      "execution_count": null,
      "outputs": []
    },
    {
      "cell_type": "code",
      "source": [
        "query = \" segun el avance tecnico cenicafe 547 que se  realizo para determinar los niveles de acumulacion de zinc de hibrido biofortificado  ?\"\n",
        "qa_chain.run(query)"
      ],
      "metadata": {
        "colab": {
          "base_uri": "https://localhost:8080/",
          "height": 107
        },
        "id": "3gAT6Zu-kaF9",
        "outputId": "811b1227-9ac7-422f-83d8-2e4906e005c8"
      },
      "execution_count": null,
      "outputs": [
        {
          "output_type": "stream",
          "name": "stderr",
          "text": [
            "<ipython-input-16-ea2e85a2a5f7>:2: LangChainDeprecationWarning: The method `Chain.run` was deprecated in langchain 0.1.0 and will be removed in 1.0. Use :meth:`~invoke` instead.\n",
            "  qa_chain.run(query)\n"
          ]
        },
        {
          "output_type": "execute_result",
          "data": {
            "text/plain": [
              "'Se recolectaron aleatoriamente muestras de granos de maíz con 14% de humedad en cuatro estaciones experimentales de Cenicafé para determinar los niveles de acumulación de zinc del híbrido de maíz blanco biofortificado (SGBIOH2).'"
            ],
            "application/vnd.google.colaboratory.intrinsic+json": {
              "type": "string"
            }
          },
          "metadata": {},
          "execution_count": 16
        }
      ]
    },
    {
      "cell_type": "code",
      "source": [
        "query = \" segun el avance tecnico cenicafe 547 cuales son algunas conclusiones obtenidas  ?\"\n",
        "qa_chain.run(query)"
      ],
      "metadata": {
        "colab": {
          "base_uri": "https://localhost:8080/",
          "height": 87
        },
        "id": "UHcqk5Ugm5OU",
        "outputId": "f39becdc-3996-4c97-8676-f9eef9ad0531"
      },
      "execution_count": null,
      "outputs": [
        {
          "output_type": "execute_result",
          "data": {
            "text/plain": [
              "'Según el avance técnico Cenicafé 547, algunas conclusiones obtenidas son que se ha realizado un esfuerzo mundial para aumentar la calidad nutricional de los principales cultivos alimentarios a través de la biofortificación, desarrollando semillas mejoradas con altos contenidos de micronutrientes esenciales. Además, se destaca la importancia de la trazabilidad del café y las prácticas de certificación en la industria cafetera, así como la necesidad de fortalecer el sector agropecuario para mitigar el desplazamiento de los jóvenes rurales hacia áreas urbanas.'"
            ],
            "application/vnd.google.colaboratory.intrinsic+json": {
              "type": "string"
            }
          },
          "metadata": {},
          "execution_count": 17
        }
      ]
    },
    {
      "cell_type": "code",
      "source": [
        "query = \" seguun  la propuesta de prototipo de software para la trazabilidad de los procesos de produccion  de cafe a traves de tecnologias BLOCKCHAIN, como puedo implementar esta tecnologuia  .  ?\"\n",
        "qa_chain.run(query)"
      ],
      "metadata": {
        "colab": {
          "base_uri": "https://localhost:8080/",
          "height": 140
        },
        "id": "vOyhm_ffyT04",
        "outputId": "86ec8913-d11e-4278-b748-0b573151bdbe"
      },
      "execution_count": null,
      "outputs": [
        {
          "output_type": "execute_result",
          "data": {
            "text/plain": [
              "'Según la propuesta de prototipo de software para la trazabilidad de los procesos de producción de café a través de tecnologías blockchain, para implementar esta tecnología en tu empresa o proyecto, necesitarías seguir los siguientes pasos:\\n\\n1. **Investigación y comprensión de blockchain:** Antes de implementar la tecnología, es importante que te familiarices con cómo funciona blockchain y cómo puede aplicarse a la trazabilidad de la producción de café.\\n\\n2. **Identificación de los procesos a trazar:** Define claramente cuáles son los procesos de producción de café que deseas trazar y qué información relevante deseas almacenar en la cadena de bloques.\\n\\n3. **Selección de la plataforma blockchain:** Elige la plataforma blockchain que mejor se adapte a tus necesidades. Puedes considerar Ethereum, Hyperledger, entre otras.\\n\\n4. **Desarrollo del software:** Desarrolla el software que permitirá la trazabilidad de los procesos de producción de café utilizando la tecnología blockchain. Puedes necesitar la ayuda de desarrolladores especializados en blockchain.\\n\\n5. **Pruebas y ajustes:** Realiza pruebas exhaustivas del software para asegurarte de que funciona correctamente y se ajusta a tus requerimientos.\\n\\n6. **Implementación y capacitación:** Una vez que el software esté listo, implementa la solución en tu empresa y capacita a tu equipo en su uso y mantenimiento.\\n\\nRecuerda que la implementación de tecnología blockchain puede ser un proceso complejo, por lo que es recomendable contar con el apoyo de expertos en la materia.'"
            ],
            "application/vnd.google.colaboratory.intrinsic+json": {
              "type": "string"
            }
          },
          "metadata": {},
          "execution_count": 18
        }
      ]
    },
    {
      "cell_type": "code",
      "source": [
        "query = \"segun propuesta de prototipo desoftware para la trazabilidad de los procesos de produccion  de cafe a traves de tecnologias BLOCKCHAIN,  Que es BPMN y para que sirve y como puedo implementarlo\"\n",
        "qa_chain.run(query)"
      ],
      "metadata": {
        "colab": {
          "base_uri": "https://localhost:8080/",
          "height": 122
        },
        "id": "XoMUHffCz22I",
        "outputId": "0f511e89-a047-4573-9bcf-4e2c98b9d8a0"
      },
      "execution_count": null,
      "outputs": [
        {
          "output_type": "execute_result",
          "data": {
            "text/plain": [
              "'Según la propuesta de prototipo de software para la trazabilidad de los procesos de producción de café a través de tecnologías Blockchain, BPMN (Business Process Model and Notation) es un estándar de modelado utilizado para describir cómo las actividades de un proceso se relacionan entre sí. \\n\\nBPMN es una herramienta que se utiliza para modelar gráficamente los procesos de negocios, permitiendo una visualización clara y comprensible de cómo se desarrollan las actividades en un proceso. \\n\\nPara implementar BPMN en el desarrollo de software, puedes utilizar herramientas de modelado BPMN como Bizagi, Lucidchart, o incluso software especializado en BPMN como Camunda. Estas herramientas te permitirán crear diagramas BPMN de tus procesos de producción de café de manera visual y detallada, lo que facilitará la comprensión y el diseño de tu sistema de trazabilidad.'"
            ],
            "application/vnd.google.colaboratory.intrinsic+json": {
              "type": "string"
            }
          },
          "metadata": {},
          "execution_count": 22
        }
      ]
    },
    {
      "cell_type": "code",
      "source": [
        "query = \"segun el avance tecnico Semillas biofortificadas que son Las semillasbiofortificadas de maíz y fríjol?\"\n",
        "qa_chain.run(query)"
      ],
      "metadata": {
        "colab": {
          "base_uri": "https://localhost:8080/",
          "height": 107
        },
        "id": "Hxp_pYg2Q47w",
        "outputId": "72f6038e-8a61-4c20-e185-017cffd24943"
      },
      "execution_count": null,
      "outputs": [
        {
          "output_type": "stream",
          "name": "stderr",
          "text": [
            "<ipython-input-16-157be9be85ad>:2: LangChainDeprecationWarning: The method `Chain.run` was deprecated in langchain 0.1.0 and will be removed in 1.0. Use :meth:`~invoke` instead.\n",
            "  qa_chain.run(query)\n"
          ]
        },
        {
          "output_type": "execute_result",
          "data": {
            "text/plain": [
              "'Las semillas biofortificadas de maíz y fríjol son variedades mejoradas genéticamente para tener un mayor contenido de nutrientes como zinc y hierro. Estas semillas han sido seleccionadas para garantizar un alto potencial productivo y nutricional en las condiciones específicas de la zona cafetera colombiana.'"
            ],
            "application/vnd.google.colaboratory.intrinsic+json": {
              "type": "string"
            }
          },
          "metadata": {},
          "execution_count": 16
        }
      ]
    },
    {
      "cell_type": "code",
      "source": [
        "query = (\" cuales son Las principales tendencias relativas a la producción de cafés sostenibles y la vinculaciónde las nuevas\"\n",
        "    \"generaciones en la producción de café sostenible para el fortalecimiento Del empalme generacional en el municipio de Aguadas (Caldas)?\")\n",
        "qa_chain.run(query)"
      ],
      "metadata": {
        "colab": {
          "base_uri": "https://localhost:8080/",
          "height": 105
        },
        "id": "TNmyKJsxg_lU",
        "outputId": "d45d2032-b5d4-4deb-df8a-8a43769f6ba1"
      },
      "execution_count": null,
      "outputs": [
        {
          "output_type": "execute_result",
          "data": {
            "text/plain": [
              "'Las principales tendencias relativas a la producción de cafés sostenibles y la vinculación de las nuevas generaciones en la producción de café sostenible para el fortalecimiento del empalme generacional en el municipio de Aguadas (Caldas) incluyen la necesidad de implementar estrategias que fomenten la sostenibilidad ambiental, social y económica en la producción de café. Además, es importante promover la certificación de prácticas sostenibles, el uso de tecnologías amigables con el medio ambiente y la creación de incentivos para atraer a las nuevas generaciones a participar en la caficultura de manera sostenible. Sin embargo, es crucial abordar la falta de interés de los jóvenes en continuar con la tradición cafetera familiar y encontrar formas innovadoras de involucrarlos en el sector.'"
            ],
            "application/vnd.google.colaboratory.intrinsic+json": {
              "type": "string"
            }
          },
          "metadata": {},
          "execution_count": 18
        }
      ]
    },
    {
      "cell_type": "code",
      "source": [
        "query = \"segun el avance tecnico cenicafe 547 cuanto y donde se encontro el nivel de mas alto de zinc en las muestras recolectadas que contenian 14% de humedas?\"\n",
        "qa_chain.run(query)"
      ],
      "metadata": {
        "colab": {
          "base_uri": "https://localhost:8080/",
          "height": 107
        },
        "id": "7bCmkkoi3G5T",
        "outputId": "688fb8d8-6b98-4d62-e798-31cbe42b5132"
      },
      "execution_count": null,
      "outputs": [
        {
          "output_type": "stream",
          "name": "stderr",
          "text": [
            "<ipython-input-18-93f339b0dcde>:2: LangChainDeprecationWarning: The method `Chain.run` was deprecated in langchain 0.1.0 and will be removed in 1.0. Use :meth:`~invoke` instead.\n",
            "  qa_chain.run(query)\n"
          ]
        },
        {
          "output_type": "execute_result",
          "data": {
            "text/plain": [
              "'Según el avance técnico de Cenicafe 547, el nivel más alto de zinc en las muestras recolectadas que contenían 14% de humedad se encontró en la localidad de El Rosario, con un contenido promedio de zinc de 40,18 mg kg-1.'"
            ],
            "application/vnd.google.colaboratory.intrinsic+json": {
              "type": "string"
            }
          },
          "metadata": {},
          "execution_count": 18
        }
      ]
    },
    {
      "cell_type": "code",
      "source": [
        "query = \"en que porcentaje y cuales son los oficiones que los estudiantes de las institiciones rurales del municipio de aguadas caldas proyectan como proyecto de vida?\"\n",
        "qa_chain.run(query)"
      ],
      "metadata": {
        "colab": {
          "base_uri": "https://localhost:8080/",
          "height": 125
        },
        "id": "NLJo9Mf8fFyE",
        "outputId": "7f2f40f3-7544-407c-c169-d52c72c5d87f"
      },
      "execution_count": null,
      "outputs": [
        {
          "output_type": "stream",
          "name": "stderr",
          "text": [
            "<ipython-input-17-493e89179777>:2: LangChainDeprecationWarning: The method `Chain.run` was deprecated in langchain 0.1.0 and will be removed in 1.0. Use :meth:`~invoke` instead.\n",
            "  qa_chain.run(query)\n"
          ]
        },
        {
          "output_type": "execute_result",
          "data": {
            "text/plain": [
              "'El 60% de los egresados de Instituciones Educativas rurales del municipio de Aguadas, Caldas, se proyectan a emprender en la venta de servicios como barberos, estilistas, mecánicos, y comerciantes. Mientras que el 25% de ellos visualizan sus proyectos de vida en oficios y servicios diferentes a la producción y comercialización de café.'"
            ],
            "application/vnd.google.colaboratory.intrinsic+json": {
              "type": "string"
            }
          },
          "metadata": {},
          "execution_count": 17
        }
      ]
    },
    {
      "cell_type": "code",
      "source": [
        "query = \" principales caracteristicas del azuar?\"\n",
        "qa_chain.run(query)"
      ],
      "metadata": {
        "id": "Gz5xwvMS5K06"
      },
      "execution_count": null,
      "outputs": []
    }
  ]
}